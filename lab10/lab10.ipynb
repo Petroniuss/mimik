{
 "cells": [
  {
   "cell_type": "code",
   "execution_count": null,
   "id": "498bca8b-b3f5-427e-8efa-bd8d97b801f8",
   "metadata": {},
   "outputs": [],
   "source": [
    "import numpy as np\n",
    "\n",
    "# Importing standard Qiskit libraries\n",
    "from qiskit import QuantumCircuit, transpile, Aer, IBMQ\n",
    "from qiskit.tools.jupyter import *\n",
    "from qiskit.visualization import *\n",
    "from ibm_quantum_widgets import *\n",
    "from qiskit.providers.aer import QasmSimulator\n",
    "\n",
    "#initialization\n",
    "import matplotlib.pyplot as plt\n",
    "import numpy as np\n",
    "\n",
    "# importing Qiskit\n",
    "from qiskit import IBMQ, Aer, assemble, transpile\n",
    "from qiskit import QuantumCircuit, ClassicalRegister, QuantumRegister\n",
    "from qiskit.providers.ibmq import least_busy\n",
    "from qiskit_textbook.tools import vector2latex\n",
    "\n",
    "# import basic plot tools\n",
    "from qiskit.visualization import plot_histogram"
   ]
  },
  {
   "cell_type": "markdown",
   "id": "05a48026-fec3-4d10-acda-86a9185647e6",
   "metadata": {},
   "source": [
    "## Ex 1\n",
    "\n",
    "The difference between solution from homework and solution from qiskit is how they create oracle.\n",
    "\n",
    "In homework it was a \"classic\" Oracle whereas in qiskit the oracle returns |x> if x is != |w> and -|x> is |w>."
   ]
  },
  {
   "cell_type": "markdown",
   "id": "0cc1610b-5123-4c1d-9569-e82757315275",
   "metadata": {},
   "source": [
    "### Homework"
   ]
  },
  {
   "cell_type": "code",
   "execution_count": 30,
   "id": "81ddf6a8-e4d2-4266-b9da-5e889a14e1da",
   "metadata": {},
   "outputs": [
    {
     "data": {
      "image/png": "[encoded data removed]",
      "text/plain": [
       "<Figure size 327.397x204.68 with 1 Axes>"
      ]
     },
     "execution_count": 30,
     "metadata": {},
     "output_type": "execute_result"
    }
   ],
   "source": [
    "qc = QuantumCircuit(3)\n",
    "qc.x(2)\n",
    "qc.barrier()\n",
    "\n",
    "# s\n",
    "qc.h(0)\n",
    "qc.h(1)\n",
    "qc.h(2)\n",
    "\n",
    "# oracle\n",
    "qc.ccx(0, 1, 2)\n",
    "\n",
    "qc.draw()"
   ]
  },
  {
   "cell_type": "code",
   "execution_count": 31,
   "id": "d5f5c78b-5af0-4cc4-88d9-5453611c7168",
   "metadata": {},
   "outputs": [
    {
     "data": {
      "image/png": "[encoded data removed]",
      "text/plain": [
       "<Figure size 748.797x204.68 with 1 Axes>"
      ]
     },
     "execution_count": 31,
     "metadata": {},
     "output_type": "execute_result"
    }
   ],
   "source": [
    "\n",
    "\n",
    "qc.h(0)\n",
    "qc.h(1)\n",
    "\n",
    "qc.x(0)\n",
    "qc.x(1)\n",
    "\n",
    "qc.h(1)\n",
    "qc.cx(0, 1)\n",
    "qc.h(1)\n",
    "\n",
    "qc.x(0)\n",
    "qc.x(1)\n",
    "\n",
    "qc.h(0)\n",
    "qc.h(1)\n",
    "\n",
    "qc.draw()"
   ]
  },
  {
   "cell_type": "code",
   "execution_count": 32,
   "id": "4afc93c0-f668-4de3-86e4-9017936a3050",
   "metadata": {},
   "outputs": [
    {
     "data": {
      "text/latex": [
       "$\\displaystyle \n",
       "$$ |\\psi\\rangle =\\begin{bmatrix}\n",
       "0 \\\\\n",
       "0 \\\\\n",
       "0 \\\\\n",
       "-0.70711 \\\\\n",
       "0 \\\\\n",
       "0 \\\\\n",
       "0 \\\\\n",
       "0.70711\\end{bmatrix} $"
      ],
      "text/plain": [
       "<IPython.core.display.Math object>"
      ]
     },
     "metadata": {},
     "output_type": "display_data"
    }
   ],
   "source": [
    "sim = Aer.get_backend('aer_simulator')\n",
    "# we need to make a copy of the circuit with the 'save_statevector'\n",
    "# instruction to run on the Aer simulator\n",
    "qc_sim = qc.copy()\n",
    "qc_sim.save_statevector()\n",
    "qobj = assemble(qc_sim)\n",
    "result = sim.run(qobj).result()\n",
    "statevec = result.get_statevector()\n",
    "\n",
    "vector2latex(statevec, pretext=\"|\\\\psi\\\\rangle =\")"
   ]
  },
  {
   "cell_type": "code",
   "execution_count": 33,
   "id": "047efa6a-9f25-4fc3-96e8-8808895addf7",
   "metadata": {},
   "outputs": [
    {
     "data": {
      "image/png": "[encoded data removed]",
      "text/plain": [
       "<Figure size 504x360 with 1 Axes>"
      ]
     },
     "execution_count": 33,
     "metadata": {},
     "output_type": "execute_result"
    }
   ],
   "source": [
    "qc.measure_all()\n",
    "\n",
    "aer_sim = Aer.get_backend('aer_simulator')\n",
    "qobj = assemble(qc)\n",
    "result = aer_sim.run(qobj).result()\n",
    "counts = result.get_counts()\n",
    "plot_histogram(counts)"
   ]
  },
  {
   "cell_type": "markdown",
   "id": "83493186-082c-4b74-ba8e-036185268ddc",
   "metadata": {},
   "source": [
    "### Qiskit"
   ]
  },
  {
   "cell_type": "code",
   "execution_count": 101,
   "id": "7c432515-8f89-4d29-9394-6eba1b9b9730",
   "metadata": {},
   "outputs": [],
   "source": [
    "n = 2\n",
    "grover_circuit = QuantumCircuit(n)"
   ]
  },
  {
   "cell_type": "code",
   "execution_count": 102,
   "id": "9bb3d6ef-2d9d-46d9-b693-96f22cb7afd5",
   "metadata": {},
   "outputs": [],
   "source": [
    "def initialize_s(qc, qubits):\n",
    "    \"\"\"Apply a H-gate to 'qubits' in qc\"\"\"\n",
    "    for q in qubits:\n",
    "        qc.h(q)\n",
    "    return qc"
   ]
  },
  {
   "cell_type": "code",
   "execution_count": 103,
   "id": "c6875f1d-b98c-4ada-a043-a1c3c0b7830e",
   "metadata": {},
   "outputs": [
    {
     "data": {
      "image/png": "[encoded data removed]",
      "text/plain": [
       "<Figure size 146.652x144.48 with 1 Axes>"
      ]
     },
     "execution_count": 103,
     "metadata": {},
     "output_type": "execute_result"
    }
   ],
   "source": [
    "grover_circuit = initialize_s(grover_circuit, [0,1])\n",
    "grover_circuit.draw()"
   ]
  },
  {
   "cell_type": "code",
   "execution_count": 104,
   "id": "cc04ebd3-badc-4228-89b9-b85210d5ca3e",
   "metadata": {},
   "outputs": [
    {
     "data": {
      "image/png": "[encoded data removed]",
      "text/plain": [
       "<Figure size 206.852x144.48 with 1 Axes>"
      ]
     },
     "execution_count": 104,
     "metadata": {},
     "output_type": "execute_result"
    }
   ],
   "source": [
    "grover_circuit.cz(0,1) # Oracle\n",
    "grover_circuit.draw()"
   ]
  },
  {
   "cell_type": "code",
   "execution_count": 105,
   "id": "0b6b38bf-be63-41a1-82c8-5ec41201b790",
   "metadata": {},
   "outputs": [
    {
     "data": {
      "image/png": "[encoded data removed]",
      "text/plain": [
       "<Figure size 447.652x144.48 with 1 Axes>"
      ]
     },
     "execution_count": 105,
     "metadata": {},
     "output_type": "execute_result"
    }
   ],
   "source": [
    "# Diffusion operator (U_s)\n",
    "grover_circuit.h([0,1])\n",
    "grover_circuit.z([0,1])\n",
    "grover_circuit.cz(0,1)\n",
    "grover_circuit.h([0,1])\n",
    "grover_circuit.draw()"
   ]
  },
  {
   "cell_type": "code",
   "execution_count": 106,
   "id": "e964b507-251f-496f-bfb6-8a1967d3923a",
   "metadata": {},
   "outputs": [
    {
     "data": {
      "text/latex": [
       "$\\displaystyle \n",
       "$$ |\\psi\\rangle =\\begin{bmatrix}\n",
       "0 \\\\\n",
       "0 \\\\\n",
       "0 \\\\\n",
       "1\\end{bmatrix} $"
      ],
      "text/plain": [
       "<IPython.core.display.Math object>"
      ]
     },
     "metadata": {},
     "output_type": "display_data"
    }
   ],
   "source": [
    "sim = Aer.get_backend('aer_simulator')\n",
    "# we need to make a copy of the circuit with the 'save_statevector'\n",
    "# instruction to run on the Aer simulator\n",
    "grover_circuit_sim = grover_circuit.copy()\n",
    "grover_circuit_sim.save_statevector()\n",
    "qobj = assemble(grover_circuit_sim)\n",
    "result = sim.run(qobj).result()\n",
    "statevec = result.get_statevector()\n",
    "\n",
    "vector2latex(statevec, pretext=\"|\\\\psi\\\\rangle =\")"
   ]
  },
  {
   "cell_type": "code",
   "execution_count": 107,
   "id": "3816c986-9a60-4ed2-bb1b-bd4b9ce2388d",
   "metadata": {},
   "outputs": [
    {
     "data": {
      "image/png": "[encoded data removed]",
      "text/plain": [
       "<Figure size 504x360 with 1 Axes>"
      ]
     },
     "execution_count": 107,
     "metadata": {},
     "output_type": "execute_result"
    }
   ],
   "source": [
    "grover_circuit.measure_all()\n",
    "\n",
    "aer_sim = Aer.get_backend('aer_simulator')\n",
    "qobj = assemble(grover_circuit)\n",
    "result = aer_sim.run(qobj).result()\n",
    "counts = result.get_counts()\n",
    "plot_histogram(counts)"
   ]
  },
  {
   "cell_type": "code",
   "execution_count": 108,
   "id": "2afe2604-f06d-4044-8bb8-27d64891c693",
   "metadata": {},
   "outputs": [
    {
     "name": "stderr",
     "output_type": "stream",
     "text": [
      "ibmqfactory.load_account:WARNING:2022-06-04 13:21:37,191: Credentials are already in use. The existing account in the session will be replaced.\n"
     ]
    },
    {
     "name": "stdout",
     "output_type": "stream",
     "text": [
      "Running on current least busy device:  ibmq_santiago\n"
     ]
    }
   ],
   "source": [
    "# Load IBM Q account and get the least busy backend device\n",
    "provider = IBMQ.load_account()\n",
    "provider = IBMQ.get_provider(\"ibm-q\")\n",
    "device = least_busy(provider.backends(filters=lambda x: x.configuration().n_qubits >= 3 and \n",
    "                                   not x.configuration().simulator and x.status().operational==True))\n",
    "print(\"Running on current least busy device: \", device)"
   ]
  },
  {
   "cell_type": "code",
   "execution_count": 109,
   "id": "0adcb06c-bc6b-4e34-a31c-34053224b2b7",
   "metadata": {},
   "outputs": [
    {
     "name": "stdout",
     "output_type": "stream",
     "text": [
      "Job Status: job has successfully run\n"
     ]
    }
   ],
   "source": [
    "# Run our circuit on the least busy backend. Monitor the execution of the job in the queue\n",
    "from qiskit.tools.monitor import job_monitor\n",
    "transpiled_grover_circuit = transpile(grover_circuit, device, optimization_level=3)\n",
    "job = device.run(transpiled_grover_circuit)\n",
    "job_monitor(job, interval=2)"
   ]
  },
  {
   "cell_type": "code",
   "execution_count": 110,
   "id": "40845580-1d93-424b-8798-30ad4061863f",
   "metadata": {},
   "outputs": [
    {
     "data": {
      "image/png": "[encoded data removed]",
      "text/plain": [
       "<Figure size 504x360 with 1 Axes>"
      ]
     },
     "execution_count": 110,
     "metadata": {},
     "output_type": "execute_result"
    }
   ],
   "source": [
    "# Get the results from the computation\n",
    "results = job.result()\n",
    "answer = results.get_counts(grover_circuit)\n",
    "plot_histogram(answer)"
   ]
  },
  {
   "cell_type": "markdown",
   "id": "a3f382ba-94df-40ca-a58f-6f9d0d3a53db",
   "metadata": {},
   "source": [
    "## Lab 11 - Error Mitigation"
   ]
  },
  {
   "cell_type": "code",
   "execution_count": 123,
   "id": "8f2cefc3-0c4b-4d83-9e8f-b260dcc56764",
   "metadata": {},
   "outputs": [],
   "source": [
    "from qiskit.ignis.mitigation.measurement import complete_meas_cal, CompleteMeasFitter\n",
    "\n",
    "cal_circuits, state_labels = complete_meas_cal(qr=grover_circuit.qregs[0], circlabel='mcal')"
   ]
  },
  {
   "cell_type": "code",
   "execution_count": 124,
   "id": "98d6c701-3c3a-4cc4-9636-1a37d35c2267",
   "metadata": {},
   "outputs": [
    {
     "data": {
      "image/png": "[encoded data removed]",
      "text/plain": [
       "<Figure size 267.052x204.68 with 1 Axes>"
      ]
     },
     "execution_count": 124,
     "metadata": {},
     "output_type": "execute_result"
    }
   ],
   "source": [
    "cal_circuits[0].draw()"
   ]
  },
  {
   "cell_type": "code",
   "execution_count": 125,
   "id": "5c4b2f7b-604a-4aa1-aea5-9adc3d9bfa44",
   "metadata": {},
   "outputs": [
    {
     "name": "stdout",
     "output_type": "stream",
     "text": [
      "629b6efa7fc73d64991c9a5f\n",
      "Job Status: job has successfully run\n"
     ]
    }
   ],
   "source": [
    "from qiskit import execute\n",
    "\n",
    "cal_job = execute(\n",
    "    cal_circuits, \n",
    "    backend=device,\n",
    "    shots=1024,\n",
    "    optimization_level=0\n",
    ")\n",
    "\n",
    "print(cal_job.job_id())\n",
    "\n",
    "job_monitor(cal_job)\n",
    "cal_results = cal_job.result()"
   ]
  },
  {
   "cell_type": "code",
   "execution_count": 126,
   "id": "b63da1f7-504c-4424-9f29-fb8ffe7dd712",
   "metadata": {},
   "outputs": [
    {
     "data": {
      "image/png": "[encoded data removed]",
      "text/plain": [
       "<Figure size 504x360 with 1 Axes>"
      ]
     },
     "execution_count": 126,
     "metadata": {},
     "output_type": "execute_result"
    }
   ],
   "source": [
    "plot_histogram(\n",
    "    cal_results.get_counts(cal_circuits[0])\n",
    ")"
   ]
  },
  {
   "cell_type": "code",
   "execution_count": 127,
   "id": "aef01070-c613-4a52-a0be-e79ca7dad50a",
   "metadata": {},
   "outputs": [
    {
     "data": {
      "image/png": "[encoded data removed]",
      "text/plain": [
       "<Figure size 432x288 with 2 Axes>"
      ]
     },
     "metadata": {
      "needs_background": "light"
     },
     "output_type": "display_data"
    }
   ],
   "source": [
    "meas_fitter = CompleteMeasFitter(cal_results, state_labels)\n",
    "meas_fitter.plot_calibration()"
   ]
  },
  {
   "cell_type": "code",
   "execution_count": 128,
   "id": "ce64ce1c-c76f-4a14-ba58-19bf72f41a7d",
   "metadata": {},
   "outputs": [],
   "source": [
    "meas_filter = meas_fitter.filter"
   ]
  },
  {
   "cell_type": "code",
   "execution_count": 129,
   "id": "2a1a97d6-4ffe-4420-99a7-6399f64a3d46",
   "metadata": {},
   "outputs": [],
   "source": [
    "mitigated_result = meas_filter.apply(results)"
   ]
  },
  {
   "cell_type": "code",
   "execution_count": 131,
   "id": "1ecfe81b-5e6d-43ed-87ba-91c629e88ba0",
   "metadata": {},
   "outputs": [
    {
     "data": {
      "image/png": "[encoded data removed]",
      "text/plain": [
       "<Figure size 504x360 with 1 Axes>"
      ]
     },
     "execution_count": 131,
     "metadata": {},
     "output_type": "execute_result"
    }
   ],
   "source": [
    "device_counts = results.get_counts(grover_circuit)\n",
    "mitigated_counts = mitigated_result.get_counts(grover_circuit)\n",
    "\n",
    "plot_histogram([device_counts, mitigated_counts], legend=['device, noisy', 'device, mitigated'])"
   ]
  },
  {
   "cell_type": "markdown",
   "id": "704035e1-788b-48e7-93c7-300b9c4d6291",
   "metadata": {},
   "source": [
    "## Exercise 2\n",
    "\n",
    "The reason I chose a solution from qiskit is that it's every easy \n",
    "to create the oracle, here's one for |000>.\n"
   ]
  },
  {
   "cell_type": "code",
   "execution_count": 99,
   "id": "b9245fb2-806e-4e71-8c52-300f8978de34",
   "metadata": {},
   "outputs": [
    {
     "data": {
      "image/png": "[encoded data removed]",
      "text/plain": [
       "<Figure size 206.997x204.68 with 1 Axes>"
      ]
     },
     "execution_count": 99,
     "metadata": {},
     "output_type": "execute_result"
    }
   ],
   "source": [
    "from qiskit.quantum_info.operators import Operator\n",
    "qc = QuantumCircuit(3)\n",
    "\n",
    "oracle = Operator([\n",
    "    [-1, 0, 0, 0, 0, 0, 0, 0],\n",
    "    [0, 1, 0, 0, 0, 0, 0, 0],\n",
    "    [0, 0, 1, 0, 0, 0, 0, 0],\n",
    "    [0, 0, 0, 1, 0, 0, 0, 0],\n",
    "    [0, 0, 0, 0, 1, 0, 0, 0],\n",
    "    [0, 0, 0, 0, 0, 1, 0, 0],\n",
    "    [0, 0, 0, 0, 0, 0, 1, 0],\n",
    "    [0, 0, 0, 0, 0, 0, 0, 1],\n",
    "])\n",
    "\n",
    "qc.unitary(oracle, [0, 1, 2])\n",
    "\n",
    "oracle_ex3 = qc.to_gate()\n",
    "oracle_ex3.name = \"U$_\\omega$\"\n",
    "\n",
    "qc.draw()"
   ]
  },
  {
   "cell_type": "code",
   "execution_count": 94,
   "id": "fd011d8c-9793-412c-85b2-2f021a594d4a",
   "metadata": {},
   "outputs": [],
   "source": [
    "def diffuser(nqubits):\n",
    "    qc = QuantumCircuit(nqubits)\n",
    "    # Apply transformation |s> -> |00..0> (H-gates)\n",
    "    for qubit in range(nqubits):\n",
    "        qc.h(qubit)\n",
    "    # Apply transformation |00..0> -> |11..1> (X-gates)\n",
    "    for qubit in range(nqubits):\n",
    "        qc.x(qubit)\n",
    "    # Do multi-controlled-Z gate\n",
    "    qc.h(nqubits-1)\n",
    "    qc.mct(list(range(nqubits-1)), nqubits-1)  # multi-controlled-toffoli\n",
    "    qc.h(nqubits-1)\n",
    "    # Apply transformation |11..1> -> |00..0>\n",
    "    for qubit in range(nqubits):\n",
    "        qc.x(qubit)\n",
    "    # Apply transformation |00..0> -> |s>\n",
    "    for qubit in range(nqubits):\n",
    "        qc.h(qubit)\n",
    "    # We will return the diffuser as a gate\n",
    "    U_s = qc.to_gate()\n",
    "    U_s.name = \"U$_s$\"\n",
    "    return U_s"
   ]
  },
  {
   "cell_type": "code",
   "execution_count": 97,
   "id": "63643f13-1f56-4b7c-b4a2-b39aaec47bb9",
   "metadata": {},
   "outputs": [
    {
     "data": {
      "image/png": "[encoded data removed]",
      "text/plain": [
       "<Figure size 658.679x264.88 with 1 Axes>"
      ]
     },
     "execution_count": 97,
     "metadata": {},
     "output_type": "execute_result"
    }
   ],
   "source": [
    "n = 3\n",
    "grover_circuit = QuantumCircuit(n)\n",
    "grover_circuit = initialize_s(grover_circuit, [0,1,2])\n",
    "\n",
    "# after one step\n",
    "grover_circuit.append(oracle_ex3, [0,1,2])\n",
    "grover_circuit.append(diffuser(n), [0,1,2])\n",
    "\n",
    "# after two steps\n",
    "# grover_circuit.append(oracle_ex3, [0,1,2])\n",
    "# grover_circuit.append(diffuser(n), [0,1,2])\n",
    "\n",
    "# after three steps\n",
    "# grover_circuit.append(oracle_ex3, [0,1,2])\n",
    "# grover_circuit.append(diffuser(n), [0,1,2])\n",
    "\n",
    "grover_circuit.measure_all()\n",
    "grover_circuit.draw()"
   ]
  },
  {
   "cell_type": "code",
   "execution_count": 98,
   "id": "dfc95e00-88db-4123-9906-653363ba886d",
   "metadata": {},
   "outputs": [
    {
     "data": {
      "image/png": "[encoded data removed]",
      "text/plain": [
       "<Figure size 504x360 with 1 Axes>"
      ]
     },
     "execution_count": 98,
     "metadata": {},
     "output_type": "execute_result"
    }
   ],
   "source": [
    "aer_sim = Aer.get_backend('aer_simulator')\n",
    "transpiled_grover_circuit = transpile(grover_circuit, aer_sim)\n",
    "qobj = assemble(transpiled_grover_circuit)\n",
    "results = aer_sim.run(qobj).result()\n",
    "counts = results.get_counts()\n",
    "plot_histogram(counts)"
   ]
  },
  {
   "cell_type": "code",
   "execution_count": null,
   "id": "078cec99-b182-4e9d-9edf-dda3457a6ab2",
   "metadata": {},
   "outputs": [],
   "source": [
    "backend = least_busy(provider.backends(filters=lambda x: x.configuration().n_qubits >= 3 and \n",
    "                                   not x.configuration().simulator and x.status().operational==True))\n",
    "print(\"least busy backend: \", backend)"
   ]
  },
  {
   "cell_type": "code",
   "execution_count": 100,
   "id": "ce356e2d-daa5-43a2-a271-5dc5ee3bfdc8",
   "metadata": {},
   "outputs": [
    {
     "name": "stdout",
     "output_type": "stream",
     "text": [
      "Job Status: job is queued (8)     "
     ]
    },
    {
     "ename": "KeyboardInterrupt",
     "evalue": "",
     "output_type": "error",
     "traceback": [
      "\u001b[0;31m---------------------------------------------------------------------------\u001b[0m",
      "\u001b[0;31mKeyboardInterrupt\u001b[0m                         Traceback (most recent call last)",
      "Input \u001b[0;32mIn [100]\u001b[0m, in \u001b[0;36m<cell line: 5>\u001b[0;34m()\u001b[0m\n\u001b[1;32m      3\u001b[0m transpiled_grover_circuit \u001b[38;5;241m=\u001b[39m transpile(grover_circuit, device, optimization_level\u001b[38;5;241m=\u001b[39m\u001b[38;5;241m3\u001b[39m)\n\u001b[1;32m      4\u001b[0m job \u001b[38;5;241m=\u001b[39m device\u001b[38;5;241m.\u001b[39mrun(transpiled_grover_circuit)\n\u001b[0;32m----> 5\u001b[0m \u001b[43mjob_monitor\u001b[49m\u001b[43m(\u001b[49m\u001b[43mjob\u001b[49m\u001b[43m,\u001b[49m\u001b[43m \u001b[49m\u001b[43minterval\u001b[49m\u001b[38;5;241;43m=\u001b[39;49m\u001b[38;5;241;43m2\u001b[39;49m\u001b[43m)\u001b[49m\n",
      "File \u001b[0;32m/opt/conda/lib/python3.8/site-packages/qiskit/tools/monitor/job_monitor.py:89\u001b[0m, in \u001b[0;36mjob_monitor\u001b[0;34m(job, interval, quiet, output, line_discipline)\u001b[0m\n\u001b[1;32m     86\u001b[0m \u001b[38;5;28;01melse\u001b[39;00m:\n\u001b[1;32m     87\u001b[0m     _interval_set \u001b[38;5;241m=\u001b[39m \u001b[38;5;28;01mTrue\u001b[39;00m\n\u001b[0;32m---> 89\u001b[0m \u001b[43m_text_checker\u001b[49m\u001b[43m(\u001b[49m\n\u001b[1;32m     90\u001b[0m \u001b[43m    \u001b[49m\u001b[43mjob\u001b[49m\u001b[43m,\u001b[49m\u001b[43m \u001b[49m\u001b[43minterval\u001b[49m\u001b[43m,\u001b[49m\u001b[43m \u001b[49m\u001b[43m_interval_set\u001b[49m\u001b[43m,\u001b[49m\u001b[43m \u001b[49m\u001b[43mquiet\u001b[49m\u001b[38;5;241;43m=\u001b[39;49m\u001b[43mquiet\u001b[49m\u001b[43m,\u001b[49m\u001b[43m \u001b[49m\u001b[43moutput\u001b[49m\u001b[38;5;241;43m=\u001b[39;49m\u001b[43moutput\u001b[49m\u001b[43m,\u001b[49m\u001b[43m \u001b[49m\u001b[43mline_discipline\u001b[49m\u001b[38;5;241;43m=\u001b[39;49m\u001b[43mline_discipline\u001b[49m\n\u001b[1;32m     91\u001b[0m \u001b[43m\u001b[49m\u001b[43m)\u001b[49m\n",
      "File \u001b[0;32m/opt/conda/lib/python3.8/site-packages/qiskit/tools/monitor/job_monitor.py:44\u001b[0m, in \u001b[0;36m_text_checker\u001b[0;34m(job, interval, _interval_set, quiet, output, line_discipline)\u001b[0m\n\u001b[1;32m     42\u001b[0m     \u001b[38;5;28mprint\u001b[39m(\u001b[38;5;124m\"\u001b[39m\u001b[38;5;132;01m{}\u001b[39;00m\u001b[38;5;132;01m{}\u001b[39;00m\u001b[38;5;124m: \u001b[39m\u001b[38;5;132;01m{}\u001b[39;00m\u001b[38;5;124m\"\u001b[39m\u001b[38;5;241m.\u001b[39mformat(line_discipline, \u001b[38;5;124m\"\u001b[39m\u001b[38;5;124mJob Status\u001b[39m\u001b[38;5;124m\"\u001b[39m, msg), end\u001b[38;5;241m=\u001b[39m\u001b[38;5;124m\"\u001b[39m\u001b[38;5;124m\"\u001b[39m, file\u001b[38;5;241m=\u001b[39moutput)\n\u001b[1;32m     43\u001b[0m \u001b[38;5;28;01mwhile\u001b[39;00m status\u001b[38;5;241m.\u001b[39mname \u001b[38;5;129;01mnot\u001b[39;00m \u001b[38;5;129;01min\u001b[39;00m [\u001b[38;5;124m\"\u001b[39m\u001b[38;5;124mDONE\u001b[39m\u001b[38;5;124m\"\u001b[39m, \u001b[38;5;124m\"\u001b[39m\u001b[38;5;124mCANCELLED\u001b[39m\u001b[38;5;124m\"\u001b[39m, \u001b[38;5;124m\"\u001b[39m\u001b[38;5;124mERROR\u001b[39m\u001b[38;5;124m\"\u001b[39m]:\n\u001b[0;32m---> 44\u001b[0m     \u001b[43mtime\u001b[49m\u001b[38;5;241;43m.\u001b[39;49m\u001b[43msleep\u001b[49m\u001b[43m(\u001b[49m\u001b[43minterval\u001b[49m\u001b[43m)\u001b[49m\n\u001b[1;32m     45\u001b[0m     status \u001b[38;5;241m=\u001b[39m job\u001b[38;5;241m.\u001b[39mstatus()\n\u001b[1;32m     46\u001b[0m     msg \u001b[38;5;241m=\u001b[39m status\u001b[38;5;241m.\u001b[39mvalue\n",
      "\u001b[0;31mKeyboardInterrupt\u001b[0m: "
     ]
    }
   ],
   "source": [
    "# Run our circuit on the least busy backend. Monitor the execution of the job in the queue\n",
    "from qiskit.tools.monitor import job_monitor\n",
    "transpiled_grover_circuit = transpile(grover_circuit, device, optimization_level=3)\n",
    "job = device.run(transpiled_grover_circuit)\n",
    "job_monitor(job, interval=2)"
   ]
  },
  {
   "cell_type": "code",
   "execution_count": null,
   "id": "9843cd20-90f2-4fe0-aa20-6baedc8a320b",
   "metadata": {},
   "outputs": [],
   "source": [
    "# Get the results from the computation\n",
    "results = job.result()\n",
    "answer = results.get_counts(grover_circuit)\n",
    "plot_histogram(answer)"
   ]
  },
  {
   "cell_type": "code",
   "execution_count": null,
   "id": "727945fa-2f4d-4057-b8fc-f33c9d5b5d1c",
   "metadata": {},
   "outputs": [],
   "source": []
  }
 ],
 "metadata": {
  "kernelspec": {
   "display_name": "Qiskit v0.35.0 (ipykernel)",
   "language": "python",
   "name": "python3"
  },
  "language_info": {
   "codemirror_mode": {
    "name": "ipython",
    "version": 3
   },
   "file_extension": ".py",
   "mimetype": "text/x-python",
   "name": "python",
   "nbconvert_exporter": "python",
   "pygments_lexer": "ipython3",
   "version": "3.8.13"
  },
  "widgets": {
   "application/vnd.jupyter.widget-state+json": {
    "state": {
     "000934db18b14de58f5abe0809b25d7b": {
      "model_module": "@jupyter-widgets/controls",
      "model_module_version": "1.5.0",
      "model_name": "DescriptionStyleModel",
      "state": {
       "description_width": ""
      }
     },
     "03b011656c4a4949beb401ec37066f1d": {
      "model_module": "@jupyter-widgets/controls",
      "model_module_version": "1.5.0",
      "model_name": "DescriptionStyleModel",
      "state": {
       "description_width": ""
      }
     },
     "03bff630bcde41ad91197c8bd1360465": {
      "model_module": "@jupyter-widgets/controls",
      "model_module_version": "1.5.0",
      "model_name": "DescriptionStyleModel",
      "state": {
       "description_width": ""
      }
     },
     "05c08de3420d41098db44579194139aa": {
      "model_module": "@jupyter-widgets/controls",
      "model_module_version": "1.5.0",
      "model_name": "HTMLModel",
      "state": {
       "layout": "IPY_MODEL_12abd3db214948f6b88325be1c6cde60",
       "style": "IPY_MODEL_6f4b4762afad411fa403470a9b0f3adc",
       "value": "<font style='color:#34BC6E'>DONE</font>"
      }
     },
     "06fb65ca1c8a42ea8f8ed4010bc9fe23": {
      "model_module": "@jupyter-widgets/controls",
      "model_module_version": "1.5.0",
      "model_name": "HTMLModel",
      "state": {
       "layout": "IPY_MODEL_79106018005f461e90abe0719588ee83",
       "style": "IPY_MODEL_6bafddfdb6dc48f0b9c6123be15cda88",
       "value": "<font style='color:#34BC6E'>DONE</font>"
      }
     },
     "07663e020aac4664b46f3c3aa3738199": {
      "model_module": "@jupyter-widgets/controls",
      "model_module_version": "1.5.0",
      "model_name": "DescriptionStyleModel",
      "state": {
       "description_width": ""
      }
     },
     "0a6e2b2d1953494f9dd48446211cdf07": {
      "model_module": "@jupyter-widgets/controls",
      "model_module_version": "1.5.0",
      "model_name": "DescriptionStyleModel",
      "state": {
       "description_width": ""
      }
     },
     "0c90edf7fc854d74b543382823bf7413": {
      "model_module": "@jupyter-widgets/base",
      "model_module_version": "1.2.0",
      "model_name": "LayoutModel",
      "state": {
       "width": "190px"
      }
     },
     "0d1b1919015e4c43a7e23eead5ff356b": {
      "model_module": "@jupyter-widgets/controls",
      "model_module_version": "1.5.0",
      "model_name": "HTMLModel",
      "state": {
       "layout": "IPY_MODEL_1196fc5481fd4300b66726f2572cca2c",
       "style": "IPY_MODEL_da07d92221304284bd000a53ae956328",
       "value": "<h5>Job ID</h5>"
      }
     },
     "0ec67d7f887f4e4eaaf1e2e86bdcf9a8": {
      "model_module": "@jupyter-widgets/controls",
      "model_module_version": "1.5.0",
      "model_name": "ButtonStyleModel",
      "state": {}
     },
     "1196fc5481fd4300b66726f2572cca2c": {
      "model_module": "@jupyter-widgets/base",
      "model_module_version": "1.2.0",
      "model_name": "LayoutModel",
      "state": {
       "width": "190px"
      }
     },
     "12abd3db214948f6b88325be1c6cde60": {
      "model_module": "@jupyter-widgets/base",
      "model_module_version": "1.2.0",
      "model_name": "LayoutModel",
      "state": {
       "width": "95px"
      }
     },
     "17c2ef3bb7a5452aab93594ce6c37985": {
      "model_module": "@jupyter-widgets/controls",
      "model_module_version": "1.5.0",
      "model_name": "ButtonModel",
      "state": {
       "icon": "close",
       "layout": "IPY_MODEL_c6f5e0ac8b1241febfc2014998da32bc",
       "style": "IPY_MODEL_23f4de3e40884b98bdbc9e6a5409830b"
      }
     },
     "18e15c0ce4ba44eeab1ea6d3b5bccf23": {
      "model_module": "@jupyter-widgets/base",
      "model_module_version": "1.2.0",
      "model_name": "LayoutModel",
      "state": {
       "width": "95px"
      }
     },
     "1a941d5cc4a5442794444693b3819fdc": {
      "model_module": "@jupyter-widgets/base",
      "model_module_version": "1.2.0",
      "model_name": "LayoutModel",
      "state": {
       "width": "95px"
      }
     },
     "1e3d18a742ec48469535c417601a50e1": {
      "model_module": "@jupyter-widgets/controls",
      "model_module_version": "1.5.0",
      "model_name": "HTMLModel",
      "state": {
       "layout": "IPY_MODEL_4e317ac767eb4dd1a164df5ff77d23a2",
       "style": "IPY_MODEL_5f7aaa30b2914df29886ab6d8f72af66",
       "value": "ibmq_santiago"
      }
     },
     "2262e0233e71474caacf36c21f2dfbe6": {
      "model_module": "@jupyter-widgets/base",
      "model_module_version": "1.2.0",
      "model_name": "LayoutModel",
      "state": {
       "grid_area": "right",
       "padding": "0px 0px 0px 0px",
       "width": "70px"
      }
     },
     "2335946b5d924a77b0154c287a27241f": {
      "model_module": "@jupyter-widgets/controls",
      "model_module_version": "1.5.0",
      "model_name": "DescriptionStyleModel",
      "state": {
       "description_width": ""
      }
     },
     "23f4de3e40884b98bdbc9e6a5409830b": {
      "model_module": "@jupyter-widgets/controls",
      "model_module_version": "1.5.0",
      "model_name": "ButtonStyleModel",
      "state": {
       "button_color": "white"
      }
     },
     "246946914b494389926b02db2df03427": {
      "model_module": "@jupyter-widgets/controls",
      "model_module_version": "1.5.0",
      "model_name": "HTMLModel",
      "state": {
       "layout": "IPY_MODEL_caeac20d3cfd498698057a81568d314e",
       "style": "IPY_MODEL_25d5b8596a2642aa80b0ad1c3b98eac4",
       "value": "-"
      }
     },
     "25b6e8d3ca0c468d9adbe5ffa8dfc267": {
      "model_module": "@jupyter-widgets/controls",
      "model_module_version": "1.5.0",
      "model_name": "DescriptionStyleModel",
      "state": {
       "description_width": ""
      }
     },
     "25d5b8596a2642aa80b0ad1c3b98eac4": {
      "model_module": "@jupyter-widgets/controls",
      "model_module_version": "1.5.0",
      "model_name": "DescriptionStyleModel",
      "state": {
       "description_width": ""
      }
     },
     "26a6d98c65d64e608fad5f5d4ac7f920": {
      "model_module": "@jupyter-widgets/controls",
      "model_module_version": "1.5.0",
      "model_name": "HTMLModel",
      "state": {
       "layout": "IPY_MODEL_b6c5596c686440aebefad573dd07d2a9",
       "style": "IPY_MODEL_61bbf676d63147dd9b78ccd41e03024d",
       "value": "629b45686caa777d0e4e96fd"
      }
     },
     "277bc1661fed4c099eba82792a541377": {
      "model_module": "@jupyter-widgets/controls",
      "model_module_version": "1.5.0",
      "model_name": "DescriptionStyleModel",
      "state": {
       "description_width": ""
      }
     },
     "28225429ab474a9c9ccef4dc9e8c233c": {
      "model_module": "@jupyter-widgets/controls",
      "model_module_version": "1.5.0",
      "model_name": "HTMLModel",
      "state": {
       "layout": "IPY_MODEL_40b1a33bcb284600b8adf5cd17f17cbe",
       "style": "IPY_MODEL_fc0e533c65e44ebfa6377b55326f2878",
       "value": "<h5>Status</h5>"
      }
     },
     "283a7472b351451fa259e7c882c8a218": {
      "model_module": "@jupyter-widgets/base",
      "model_module_version": "1.2.0",
      "model_name": "LayoutModel",
      "state": {
       "width": "70px"
      }
     },
     "29adf103db0d4065b5de9270fe6f36d7": {
      "model_module": "@jupyter-widgets/controls",
      "model_module_version": "1.5.0",
      "model_name": "HTMLModel",
      "state": {
       "layout": "IPY_MODEL_4f5b656decc4452d97a21d5f5da2feff",
       "style": "IPY_MODEL_2335946b5d924a77b0154c287a27241f",
       "value": "<font style='color:#34BC6E'>DONE</font>"
      }
     },
     "2afcc0d9aeea466586577e21228504b3": {
      "model_module": "@jupyter-widgets/controls",
      "model_module_version": "1.5.0",
      "model_name": "HTMLModel",
      "state": {
       "layout": "IPY_MODEL_667827a56ea04c86b49f70283bae531f",
       "style": "IPY_MODEL_b929cf04ccc7403fbe650eb3902e353f",
       "value": "629b6efa7fc73d64991c9a5f"
      }
     },
     "2ce03e5b66734970a5b74ad622b151dc": {
      "model_module": "@jupyter-widgets/controls",
      "model_module_version": "1.5.0",
      "model_name": "HTMLModel",
      "state": {
       "layout": "IPY_MODEL_8c4cfae1140d492f99b2d36e08f61c02",
       "style": "IPY_MODEL_c53560009ac5498c81f67d306b33a9f2",
       "value": "<h5>Queue</h5>"
      }
     },
     "2d15d1e94ddf4845ac661de059e8c19d": {
      "model_module": "@jupyter-widgets/controls",
      "model_module_version": "1.5.0",
      "model_name": "ButtonStyleModel",
      "state": {
       "button_color": "white"
      }
     },
     "2d5b685ccbed4dba9b31a87ca2e57107": {
      "model_module": "@jupyter-widgets/base",
      "model_module_version": "1.2.0",
      "model_name": "LayoutModel",
      "state": {
       "margin": "0px 5px 0px 0px",
       "width": "32px"
      }
     },
     "2fd84526b9724e599bd5a0e72f72beef": {
      "model_module": "@jupyter-widgets/base",
      "model_module_version": "1.2.0",
      "model_name": "LayoutModel",
      "state": {
       "max_width": "700px",
       "min_width": "700px"
      }
     },
     "31ad8cbaba3340e9a8c952dc368db899": {
      "model_module": "@jupyter-widgets/base",
      "model_module_version": "1.2.0",
      "model_name": "LayoutModel",
      "state": {
       "width": "70px"
      }
     },
     "358adc419264494b987e392d944d2554": {
      "model_module": "@jupyter-widgets/base",
      "model_module_version": "1.2.0",
      "model_name": "LayoutModel",
      "state": {}
     },
     "3ee8c1ef222b4fd5a8cc331262bb083f": {
      "model_module": "@jupyter-widgets/controls",
      "model_module_version": "1.5.0",
      "model_name": "DescriptionStyleModel",
      "state": {
       "description_width": ""
      }
     },
     "40b1a33bcb284600b8adf5cd17f17cbe": {
      "model_module": "@jupyter-widgets/base",
      "model_module_version": "1.2.0",
      "model_name": "LayoutModel",
      "state": {
       "width": "95px"
      }
     },
     "410e0e4d00a944d3863061872173366b": {
      "model_module": "@jupyter-widgets/controls",
      "model_module_version": "1.5.0",
      "model_name": "HTMLModel",
      "state": {
       "layout": "IPY_MODEL_31ad8cbaba3340e9a8c952dc368db899",
       "style": "IPY_MODEL_0a6e2b2d1953494f9dd48446211cdf07",
       "value": "-"
      }
     },
     "42cb4fd6822940e4a6f05da58770b577": {
      "model_module": "@jupyter-widgets/controls",
      "model_module_version": "1.5.0",
      "model_name": "HTMLModel",
      "state": {
       "layout": "IPY_MODEL_eaa1f996c14640a79f5a7b55a2a17140",
       "style": "IPY_MODEL_9c235308fa4647d4913e0574ee6d85c4",
       "value": "-"
      }
     },
     "44491a6efaff47a38227f8dfc56a5f0f": {
      "model_module": "@jupyter-widgets/controls",
      "model_module_version": "1.5.0",
      "model_name": "HTMLModel",
      "state": {
       "layout": "IPY_MODEL_aa756ff0f9654bb9a7b73be1e5545c67",
       "style": "IPY_MODEL_fb6f761ced9d4005b4b8b52dccdb30ee",
       "value": "629b539ae9eab5ee09ba9ac5"
      }
     },
     "458fc788e2bc4082a30fcd06b484702b": {
      "model_module": "@jupyter-widgets/controls",
      "model_module_version": "1.5.0",
      "model_name": "HTMLModel",
      "state": {
       "layout": "IPY_MODEL_db7f251134814c51842f0f3fee4a7d94",
       "style": "IPY_MODEL_07663e020aac4664b46f3c3aa3738199",
       "value": "<font style='color:#34BC6E'>DONE</font>"
      }
     },
     "462ff0a6f55146f2b3634023aca386cb": {
      "model_module": "@jupyter-widgets/controls",
      "model_module_version": "1.5.0",
      "model_name": "HTMLModel",
      "state": {
       "layout": "IPY_MODEL_283a7472b351451fa259e7c882c8a218",
       "style": "IPY_MODEL_fd3114b698d841d68e0a4adcfd5d4a8f",
       "value": "-"
      }
     },
     "492756f4a7d345ada173469c0964408c": {
      "model_module": "@jupyter-widgets/controls",
      "model_module_version": "1.5.0",
      "model_name": "ButtonModel",
      "state": {
       "button_style": "primary",
       "description": "Clear",
       "layout": "IPY_MODEL_2262e0233e71474caacf36c21f2dfbe6",
       "style": "IPY_MODEL_0ec67d7f887f4e4eaaf1e2e86bdcf9a8"
      }
     },
     "4bd9d67b3b4b4dc6b91c15763546fb74": {
      "model_module": "@jupyter-widgets/controls",
      "model_module_version": "1.5.0",
      "model_name": "DescriptionStyleModel",
      "state": {
       "description_width": ""
      }
     },
     "4dda681aa3a743e7ad6427b7bc8f9ad5": {
      "model_module": "@jupyter-widgets/controls",
      "model_module_version": "1.5.0",
      "model_name": "DescriptionStyleModel",
      "state": {
       "description_width": ""
      }
     },
     "4e317ac767eb4dd1a164df5ff77d23a2": {
      "model_module": "@jupyter-widgets/base",
      "model_module_version": "1.2.0",
      "model_name": "LayoutModel",
      "state": {
       "width": "145px"
      }
     },
     "4f5b656decc4452d97a21d5f5da2feff": {
      "model_module": "@jupyter-widgets/base",
      "model_module_version": "1.2.0",
      "model_name": "LayoutModel",
      "state": {
       "width": "95px"
      }
     },
     "50e407bef98043c5b93b79787b4752dd": {
      "model_module": "@jupyter-widgets/controls",
      "model_module_version": "1.5.0",
      "model_name": "HTMLModel",
      "state": {
       "layout": "IPY_MODEL_7892008b152348e2b8e56edeada597ff",
       "style": "IPY_MODEL_25b6e8d3ca0c468d9adbe5ffa8dfc267",
       "value": "ibmq_santiago"
      }
     },
     "52379e8c370b436a8f842dcf4aa0c0fd": {
      "model_module": "@jupyter-widgets/base",
      "model_module_version": "1.2.0",
      "model_name": "LayoutModel",
      "state": {
       "width": "145px"
      }
     },
     "5361969b4c6a441685b1068590cb7064": {
      "model_module": "@jupyter-widgets/controls",
      "model_module_version": "1.5.0",
      "model_name": "HBoxModel",
      "state": {
       "children": [
        "IPY_MODEL_6539f1caa6ff44dbb2077542f1e2d216",
        "IPY_MODEL_2afcc0d9aeea466586577e21228504b3",
        "IPY_MODEL_5809c64bf2e1431ba7b513919ec2143c",
        "IPY_MODEL_458fc788e2bc4082a30fcd06b484702b",
        "IPY_MODEL_246946914b494389926b02db2df03427",
        "IPY_MODEL_a3cbc7fdb4a140bb8bc134652b8ca592"
       ],
       "layout": "IPY_MODEL_2fd84526b9724e599bd5a0e72f72beef"
      }
     },
     "563130a94e5b4d4aa27f57260a34bdb4": {
      "model_module": "@jupyter-widgets/controls",
      "model_module_version": "1.5.0",
      "model_name": "DescriptionStyleModel",
      "state": {
       "description_width": ""
      }
     },
     "5749a9c9a23d4065afaf6901808f52cc": {
      "model_module": "@jupyter-widgets/controls",
      "model_module_version": "1.5.0",
      "model_name": "ButtonModel",
      "state": {
       "icon": "close",
       "layout": "IPY_MODEL_c32f876423fe44d8a33fb9e6d248698f",
       "style": "IPY_MODEL_75dde476e022473bbb8c7616de658730"
      }
     },
     "5809c64bf2e1431ba7b513919ec2143c": {
      "model_module": "@jupyter-widgets/controls",
      "model_module_version": "1.5.0",
      "model_name": "HTMLModel",
      "state": {
       "layout": "IPY_MODEL_a3e75b5f1c0c4145abb284d62ada1c34",
       "style": "IPY_MODEL_8ea5a82d971a4d5f85b776a58c1afdcd",
       "value": "ibmq_santiago"
      }
     },
     "58ec9cdac9844b6e92a5650d60e7617d": {
      "model_module": "@jupyter-widgets/controls",
      "model_module_version": "1.5.0",
      "model_name": "HBoxModel",
      "state": {
       "children": [
        "IPY_MODEL_6c517cce5a9c4ba889f721badaab9055",
        "IPY_MODEL_747c94a346f9434daec8d7d2ac58eaa1",
        "IPY_MODEL_79ac68d024944456a89728cb35f69cd2",
        "IPY_MODEL_06fb65ca1c8a42ea8f8ed4010bc9fe23",
        "IPY_MODEL_410e0e4d00a944d3863061872173366b",
        "IPY_MODEL_925f06a961bd45bca6a2fdf1336f3d0d"
       ],
       "layout": "IPY_MODEL_6f3561d439284c1c92da65015e5032d6"
      }
     },
     "5b80c1aba2c84b3f8b5903e5111ca8dd": {
      "model_module": "@jupyter-widgets/controls",
      "model_module_version": "1.5.0",
      "model_name": "HTMLModel",
      "state": {
       "layout": "IPY_MODEL_94acb6e6a7594deaa13febc5876e39cc",
       "style": "IPY_MODEL_000934db18b14de58f5abe0809b25d7b",
       "value": "<p style='font-family: IBM Plex Sans, Arial, Helvetica, sans-serif; font-size: 20px; font-weight: medium;'>Circuit Properties</p>"
      }
     },
     "5bb0ab64cdd048a4b7860d46d6ee6b90": {
      "model_module": "@jupyter-widgets/controls",
      "model_module_version": "1.5.0",
      "model_name": "HTMLModel",
      "state": {
       "layout": "IPY_MODEL_988f66d75f5b4f5e8ebb23d1d062bde2",
       "style": "IPY_MODEL_d1da9a41846d4683b92c986e9617b336",
       "value": "ibmq_santiago"
      }
     },
     "5bdc7264f12042d78fe09df6a1821b38": {
      "model_module": "@jupyter-widgets/base",
      "model_module_version": "1.2.0",
      "model_name": "LayoutModel",
      "state": {
       "max_width": "700px",
       "min_width": "700px"
      }
     },
     "5c1a6ea805644179a5f63a2ae3e0f8ac": {
      "model_module": "@jupyter-widgets/base",
      "model_module_version": "1.2.0",
      "model_name": "LayoutModel",
      "state": {
       "overflow_x": "scroll"
      }
     },
     "5f7aaa30b2914df29886ab6d8f72af66": {
      "model_module": "@jupyter-widgets/controls",
      "model_module_version": "1.5.0",
      "model_name": "DescriptionStyleModel",
      "state": {
       "description_width": ""
      }
     },
     "61bbf676d63147dd9b78ccd41e03024d": {
      "model_module": "@jupyter-widgets/controls",
      "model_module_version": "1.5.0",
      "model_name": "DescriptionStyleModel",
      "state": {
       "description_width": ""
      }
     },
     "6358f09635cc46889e04f0ebbb271213": {
      "model_module": "@jupyter-widgets/base",
      "model_module_version": "1.2.0",
      "model_name": "LayoutModel",
      "state": {
       "overflow_x": "scroll"
      }
     },
     "6539f1caa6ff44dbb2077542f1e2d216": {
      "model_module": "@jupyter-widgets/controls",
      "model_module_version": "1.5.0",
      "model_name": "ButtonModel",
      "state": {
       "icon": "close",
       "layout": "IPY_MODEL_eed392ca7e824063a12e9a3ca9a8553e",
       "style": "IPY_MODEL_f99271957ca24813add02eecd66fbe1d"
      }
     },
     "667827a56ea04c86b49f70283bae531f": {
      "model_module": "@jupyter-widgets/base",
      "model_module_version": "1.2.0",
      "model_name": "LayoutModel",
      "state": {
       "width": "190px"
      }
     },
     "66a492e8c12e4732b617f291c18b2438": {
      "model_module": "@jupyter-widgets/base",
      "model_module_version": "1.2.0",
      "model_name": "LayoutModel",
      "state": {
       "width": "190px"
      }
     },
     "67252ca275c646ed85f8ca1474073dca": {
      "model_module": "@jupyter-widgets/base",
      "model_module_version": "1.2.0",
      "model_name": "LayoutModel",
      "state": {
       "overflow_x": "scroll"
      }
     },
     "679be19af3614ff086719f2c3755a665": {
      "model_module": "@jupyter-widgets/controls",
      "model_module_version": "1.5.0",
      "model_name": "HBoxModel",
      "state": {
       "children": [
        "IPY_MODEL_5749a9c9a23d4065afaf6901808f52cc",
        "IPY_MODEL_26a6d98c65d64e608fad5f5d4ac7f920",
        "IPY_MODEL_5bb0ab64cdd048a4b7860d46d6ee6b90",
        "IPY_MODEL_adc9b4a0c1c7409aabbc623a60da731a",
        "IPY_MODEL_462ff0a6f55146f2b3634023aca386cb",
        "IPY_MODEL_b9f23504306045aeb957becd8c5785e7"
       ],
       "layout": "IPY_MODEL_94cdc1d995224a63a29dbf5306da225c"
      }
     },
     "68b51fedf54f4e1093894328c570cff9": {
      "model_module": "@jupyter-widgets/base",
      "model_module_version": "1.2.0",
      "model_name": "LayoutModel",
      "state": {
       "width": "70px"
      }
     },
     "6bafddfdb6dc48f0b9c6123be15cda88": {
      "model_module": "@jupyter-widgets/controls",
      "model_module_version": "1.5.0",
      "model_name": "DescriptionStyleModel",
      "state": {
       "description_width": ""
      }
     },
     "6c517cce5a9c4ba889f721badaab9055": {
      "model_module": "@jupyter-widgets/controls",
      "model_module_version": "1.5.0",
      "model_name": "ButtonModel",
      "state": {
       "icon": "close",
       "layout": "IPY_MODEL_cca3a59d13b64e4097bea02ff101153f",
       "style": "IPY_MODEL_fb5904c00aee49ada3a58edc0673474f"
      }
     },
     "6e9101aa81424b4cb5ffe7323eff77b7": {
      "model_module": "@jupyter-widgets/controls",
      "model_module_version": "1.5.0",
      "model_name": "HTMLModel",
      "state": {
       "layout": "IPY_MODEL_85c6a5d8878c4c5d940d95217655a4bc",
       "style": "IPY_MODEL_dd2eed0521df4781a3f46348ea15ce1d",
       "value": "629b4b476caa777bad4e9714"
      }
     },
     "6f3561d439284c1c92da65015e5032d6": {
      "model_module": "@jupyter-widgets/base",
      "model_module_version": "1.2.0",
      "model_name": "LayoutModel",
      "state": {
       "max_width": "700px",
       "min_width": "700px"
      }
     },
     "6f4b4762afad411fa403470a9b0f3adc": {
      "model_module": "@jupyter-widgets/controls",
      "model_module_version": "1.5.0",
      "model_name": "DescriptionStyleModel",
      "state": {
       "description_width": ""
      }
     },
     "70536575448b423ca176955293ef316e": {
      "model_module": "@jupyter-widgets/controls",
      "model_module_version": "1.5.0",
      "model_name": "HTMLModel",
      "state": {
       "layout": "IPY_MODEL_68b51fedf54f4e1093894328c570cff9",
       "style": "IPY_MODEL_3ee8c1ef222b4fd5a8cc331262bb083f",
       "value": "-"
      }
     },
     "720e5d34b6b34508af9ced01a17dff2c": {
      "model_module": "@jupyter-widgets/controls",
      "model_module_version": "1.5.0",
      "model_name": "DescriptionStyleModel",
      "state": {
       "description_width": ""
      }
     },
     "7258053f3e0f4c93a036e28247cd4dc6": {
      "model_module": "@jupyter-widgets/controls",
      "model_module_version": "1.5.0",
      "model_name": "DescriptionStyleModel",
      "state": {
       "description_width": ""
      }
     },
     "72949bd72a614f94a2e499a844c83a8c": {
      "model_module": "@jupyter-widgets/controls",
      "model_module_version": "1.5.0",
      "model_name": "HTMLModel",
      "state": {
       "layout": "IPY_MODEL_f04cdfa9da704f77b3b18aa35935a13f",
       "style": "IPY_MODEL_cf37de7727914ff595b7fd732d8b8a64",
       "value": "job has successfully run"
      }
     },
     "72d247f4330d419797b372fd3b0bc9a6": {
      "model_module": "@jupyter-widgets/controls",
      "model_module_version": "1.5.0",
      "model_name": "ButtonModel",
      "state": {
       "icon": "close",
       "layout": "IPY_MODEL_2d5b685ccbed4dba9b31a87ca2e57107",
       "style": "IPY_MODEL_ad1f7b329f1c4f078f9beb0d5480e77d"
      }
     },
     "73fd21d44fc24c7088f08458fb26fdb9": {
      "model_module": "@jupyter-widgets/base",
      "model_module_version": "1.2.0",
      "model_name": "LayoutModel",
      "state": {
       "margin": "0px 5px 0px 0px",
       "width": "32px"
      }
     },
     "741d9e79f24b404fb6a4e9d9db92363a": {
      "model_module": "@jupyter-widgets/controls",
      "model_module_version": "1.5.0",
      "model_name": "HTMLModel",
      "state": {
       "layout": "IPY_MODEL_c579b658040b4e3aa7807fb74d4313e7",
       "style": "IPY_MODEL_8d1f075e52344bb3b5927c0267ff2866",
       "value": "<h5>Backend</h5>"
      }
     },
     "747c94a346f9434daec8d7d2ac58eaa1": {
      "model_module": "@jupyter-widgets/controls",
      "model_module_version": "1.5.0",
      "model_name": "HTMLModel",
      "state": {
       "layout": "IPY_MODEL_7e2c6b4af0e1461dbaf6794f94b23ba2",
       "style": "IPY_MODEL_720e5d34b6b34508af9ced01a17dff2c",
       "value": "629b5c7c6d622149d184b0ae"
      }
     },
     "75dde476e022473bbb8c7616de658730": {
      "model_module": "@jupyter-widgets/controls",
      "model_module_version": "1.5.0",
      "model_name": "ButtonStyleModel",
      "state": {
       "button_color": "white"
      }
     },
     "7892008b152348e2b8e56edeada597ff": {
      "model_module": "@jupyter-widgets/base",
      "model_module_version": "1.2.0",
      "model_name": "LayoutModel",
      "state": {
       "width": "145px"
      }
     },
     "79106018005f461e90abe0719588ee83": {
      "model_module": "@jupyter-widgets/base",
      "model_module_version": "1.2.0",
      "model_name": "LayoutModel",
      "state": {
       "width": "95px"
      }
     },
     "79ac68d024944456a89728cb35f69cd2": {
      "model_module": "@jupyter-widgets/controls",
      "model_module_version": "1.5.0",
      "model_name": "HTMLModel",
      "state": {
       "layout": "IPY_MODEL_52379e8c370b436a8f842dcf4aa0c0fd",
       "style": "IPY_MODEL_e18f99d7049044ddac9033e769cfc27f",
       "value": "ibmq_santiago"
      }
     },
     "7e2c6b4af0e1461dbaf6794f94b23ba2": {
      "model_module": "@jupyter-widgets/base",
      "model_module_version": "1.2.0",
      "model_name": "LayoutModel",
      "state": {
       "width": "190px"
      }
     },
     "843ea7aedba94ff88cd80a387148a8e5": {
      "model_module": "@jupyter-widgets/base",
      "model_module_version": "1.2.0",
      "model_name": "LayoutModel",
      "state": {
       "width": "70px"
      }
     },
     "8561bd500259435490e8d02c36aea675": {
      "model_module": "@jupyter-widgets/controls",
      "model_module_version": "1.5.0",
      "model_name": "DescriptionStyleModel",
      "state": {
       "description_width": ""
      }
     },
     "85c6a5d8878c4c5d940d95217655a4bc": {
      "model_module": "@jupyter-widgets/base",
      "model_module_version": "1.2.0",
      "model_name": "LayoutModel",
      "state": {
       "width": "190px"
      }
     },
     "8b665b172de24f4a85a69f61b3e48895": {
      "model_module": "@jupyter-widgets/controls",
      "model_module_version": "1.5.0",
      "model_name": "DescriptionStyleModel",
      "state": {
       "description_width": ""
      }
     },
     "8c4cfae1140d492f99b2d36e08f61c02": {
      "model_module": "@jupyter-widgets/base",
      "model_module_version": "1.2.0",
      "model_name": "LayoutModel",
      "state": {
       "width": "70px"
      }
     },
     "8d1f075e52344bb3b5927c0267ff2866": {
      "model_module": "@jupyter-widgets/controls",
      "model_module_version": "1.5.0",
      "model_name": "DescriptionStyleModel",
      "state": {
       "description_width": ""
      }
     },
     "8ea5a82d971a4d5f85b776a58c1afdcd": {
      "model_module": "@jupyter-widgets/controls",
      "model_module_version": "1.5.0",
      "model_name": "DescriptionStyleModel",
      "state": {
       "description_width": ""
      }
     },
     "901e0474c7d64562badf0d39547d3bf3": {
      "model_module": "@jupyter-widgets/base",
      "model_module_version": "1.2.0",
      "model_name": "LayoutModel",
      "state": {
       "width": "145px"
      }
     },
     "925f06a961bd45bca6a2fdf1336f3d0d": {
      "model_module": "@jupyter-widgets/controls",
      "model_module_version": "1.5.0",
      "model_name": "HTMLModel",
      "state": {
       "layout": "IPY_MODEL_6358f09635cc46889e04f0ebbb271213",
       "style": "IPY_MODEL_d92e05088adb4507b6be88cf979cd1c5",
       "value": "job has successfully run"
      }
     },
     "9426432445fc40b48a9af8cee1bbbbb5": {
      "model_module": "@jupyter-widgets/controls",
      "model_module_version": "1.5.0",
      "model_name": "ButtonStyleModel",
      "state": {
       "button_color": "white"
      }
     },
     "94acb6e6a7594deaa13febc5876e39cc": {
      "model_module": "@jupyter-widgets/base",
      "model_module_version": "1.2.0",
      "model_name": "LayoutModel",
      "state": {
       "margin": "0px 0px 10px 0px"
      }
     },
     "94cdc1d995224a63a29dbf5306da225c": {
      "model_module": "@jupyter-widgets/base",
      "model_module_version": "1.2.0",
      "model_name": "LayoutModel",
      "state": {
       "max_width": "700px",
       "min_width": "700px"
      }
     },
     "95a366b05d224c0db979f635a34830f7": {
      "model_module": "@jupyter-widgets/controls",
      "model_module_version": "1.5.0",
      "model_name": "DescriptionStyleModel",
      "state": {
       "description_width": ""
      }
     },
     "986139ec6561454b92fdeb12f2c6cbc3": {
      "model_module": "@jupyter-widgets/controls",
      "model_module_version": "1.5.0",
      "model_name": "HTMLModel",
      "state": {
       "layout": "IPY_MODEL_66a492e8c12e4732b617f291c18b2438",
       "style": "IPY_MODEL_4dda681aa3a743e7ad6427b7bc8f9ad5",
       "value": "629b4c5c0a401bd8ef7db254"
      }
     },
     "988f66d75f5b4f5e8ebb23d1d062bde2": {
      "model_module": "@jupyter-widgets/base",
      "model_module_version": "1.2.0",
      "model_name": "LayoutModel",
      "state": {
       "width": "145px"
      }
     },
     "9bf30659727e454faebd8ae4b9a5859b": {
      "model_module": "@jupyter-widgets/base",
      "model_module_version": "1.2.0",
      "model_name": "LayoutModel",
      "state": {
       "max_width": "700px",
       "min_width": "700px"
      }
     },
     "9c235308fa4647d4913e0574ee6d85c4": {
      "model_module": "@jupyter-widgets/controls",
      "model_module_version": "1.5.0",
      "model_name": "DescriptionStyleModel",
      "state": {
       "description_width": ""
      }
     },
     "9c7abcca36e24c9e8283ffe0b497b6e9": {
      "model_module": "@jupyter-widgets/base",
      "model_module_version": "1.2.0",
      "model_name": "LayoutModel",
      "state": {
       "width": "145px"
      }
     },
     "9e0a2a0fd2984750b259e3ce90160b3b": {
      "model_module": "@jupyter-widgets/base",
      "model_module_version": "1.2.0",
      "model_name": "LayoutModel",
      "state": {
       "overflow_x": "scroll"
      }
     },
     "9efbb31a6f844464bf1d34e334c30bb9": {
      "model_module": "@jupyter-widgets/base",
      "model_module_version": "1.2.0",
      "model_name": "LayoutModel",
      "state": {
       "width": "95px"
      }
     },
     "9f9708d01a604e53bb45bff0f1aefec5": {
      "model_module": "@jupyter-widgets/controls",
      "model_module_version": "1.5.0",
      "model_name": "HTMLModel",
      "state": {
       "layout": "IPY_MODEL_1a941d5cc4a5442794444693b3819fdc",
       "style": "IPY_MODEL_277bc1661fed4c099eba82792a541377",
       "value": "<font style='color:#34BC6E'>DONE</font>"
      }
     },
     "a1b5268376c54782938db859bd977b13": {
      "model_module": "@jupyter-widgets/controls",
      "model_module_version": "1.5.0",
      "model_name": "HTMLModel",
      "state": {
       "layout": "IPY_MODEL_0c90edf7fc854d74b543382823bf7413",
       "style": "IPY_MODEL_a77c6d9cc2dd44089b0a74f3426bceab",
       "value": "629b63a5e9eab53e2dba9aeb"
      }
     },
     "a1f1b12b3d0846c0b669925c6bbdc6ae": {
      "model_module": "@jupyter-widgets/base",
      "model_module_version": "1.2.0",
      "model_name": "LayoutModel",
      "state": {
       "overflow_x": "scroll"
      }
     },
     "a1fabef4184b4ad09669644db46b5560": {
      "model_module": "@jupyter-widgets/base",
      "model_module_version": "1.2.0",
      "model_name": "LayoutModel",
      "state": {
       "width": "70px"
      }
     },
     "a3cbc7fdb4a140bb8bc134652b8ca592": {
      "model_module": "@jupyter-widgets/controls",
      "model_module_version": "1.5.0",
      "model_name": "HTMLModel",
      "state": {
       "layout": "IPY_MODEL_a1f1b12b3d0846c0b669925c6bbdc6ae",
       "style": "IPY_MODEL_f5f9eaf7877c4999ae92a11d463e250d",
       "value": "job has successfully run"
      }
     },
     "a3e75b5f1c0c4145abb284d62ada1c34": {
      "model_module": "@jupyter-widgets/base",
      "model_module_version": "1.2.0",
      "model_name": "LayoutModel",
      "state": {
       "width": "145px"
      }
     },
     "a4e087d8119a428aab305d460cbc6170": {
      "model_module": "@jupyter-widgets/base",
      "model_module_version": "1.2.0",
      "model_name": "LayoutModel",
      "state": {
       "margin": "0px 5px 0px 0px",
       "width": "32px"
      }
     },
     "a6f58c4e0583444fa8dd37de344cdef6": {
      "model_module": "@jupyter-widgets/controls",
      "model_module_version": "1.5.0",
      "model_name": "GridBoxModel",
      "state": {
       "children": [
        "IPY_MODEL_492756f4a7d345ada173469c0964408c"
       ],
       "layout": "IPY_MODEL_ff8660f62f5c4dbea02294124f88ca26"
      }
     },
     "a77c6d9cc2dd44089b0a74f3426bceab": {
      "model_module": "@jupyter-widgets/controls",
      "model_module_version": "1.5.0",
      "model_name": "DescriptionStyleModel",
      "state": {
       "description_width": ""
      }
     },
     "aa756ff0f9654bb9a7b73be1e5545c67": {
      "model_module": "@jupyter-widgets/base",
      "model_module_version": "1.2.0",
      "model_name": "LayoutModel",
      "state": {
       "width": "190px"
      }
     },
     "ab7ea24c2bbc4616869069c5cc9cb51b": {
      "model_module": "@jupyter-widgets/controls",
      "model_module_version": "1.5.0",
      "model_name": "HBoxModel",
      "state": {
       "children": [
        "IPY_MODEL_d0476b0452ab485db9b957c001e0276f",
        "IPY_MODEL_6e9101aa81424b4cb5ffe7323eff77b7",
        "IPY_MODEL_f84572ca5fa941ccbdbd07eca00dfb12",
        "IPY_MODEL_d452426390b14fb3825c08a45b783843",
        "IPY_MODEL_42cb4fd6822940e4a6f05da58770b577",
        "IPY_MODEL_eab3d5122dc34a94a09b0dcb1a610f17"
       ],
       "layout": "IPY_MODEL_b541feeceb634a8cb11a0c7fd3eb5ba3"
      }
     },
     "ad1f7b329f1c4f078f9beb0d5480e77d": {
      "model_module": "@jupyter-widgets/controls",
      "model_module_version": "1.5.0",
      "model_name": "ButtonStyleModel",
      "state": {
       "button_color": "white"
      }
     },
     "adc9b4a0c1c7409aabbc623a60da731a": {
      "model_module": "@jupyter-widgets/controls",
      "model_module_version": "1.5.0",
      "model_name": "HTMLModel",
      "state": {
       "layout": "IPY_MODEL_9efbb31a6f844464bf1d34e334c30bb9",
       "style": "IPY_MODEL_7258053f3e0f4c93a036e28247cd4dc6",
       "value": "<font style='color:#34BC6E'>DONE</font>"
      }
     },
     "b0ed280a47524a77ac9e468eb520aa17": {
      "model_module": "@jupyter-widgets/controls",
      "model_module_version": "1.5.0",
      "model_name": "HTMLModel",
      "state": {
       "layout": "IPY_MODEL_a1fabef4184b4ad09669644db46b5560",
       "style": "IPY_MODEL_95a366b05d224c0db979f635a34830f7",
       "value": "-"
      }
     },
     "b3b66bb54f6040d4849698718367a668": {
      "model_module": "@jupyter-widgets/controls",
      "model_module_version": "1.5.0",
      "model_name": "HBoxModel",
      "state": {
       "children": [
        "IPY_MODEL_72d247f4330d419797b372fd3b0bc9a6",
        "IPY_MODEL_44491a6efaff47a38227f8dfc56a5f0f",
        "IPY_MODEL_e6709bd569394a5d8125bea2e59a5f41",
        "IPY_MODEL_05c08de3420d41098db44579194139aa",
        "IPY_MODEL_70536575448b423ca176955293ef316e",
        "IPY_MODEL_fcd0b8e4c72e4b61acb994c75f6b8f24"
       ],
       "layout": "IPY_MODEL_5bdc7264f12042d78fe09df6a1821b38"
      }
     },
     "b541feeceb634a8cb11a0c7fd3eb5ba3": {
      "model_module": "@jupyter-widgets/base",
      "model_module_version": "1.2.0",
      "model_name": "LayoutModel",
      "state": {
       "max_width": "700px",
       "min_width": "700px"
      }
     },
     "b6c5596c686440aebefad573dd07d2a9": {
      "model_module": "@jupyter-widgets/base",
      "model_module_version": "1.2.0",
      "model_name": "LayoutModel",
      "state": {
       "width": "190px"
      }
     },
     "b6f1354906cd49a99284936ec850efc9": {
      "model_module": "@jupyter-widgets/controls",
      "model_module_version": "1.5.0",
      "model_name": "DescriptionStyleModel",
      "state": {
       "description_width": ""
      }
     },
     "b929cf04ccc7403fbe650eb3902e353f": {
      "model_module": "@jupyter-widgets/controls",
      "model_module_version": "1.5.0",
      "model_name": "DescriptionStyleModel",
      "state": {
       "description_width": ""
      }
     },
     "b9f23504306045aeb957becd8c5785e7": {
      "model_module": "@jupyter-widgets/controls",
      "model_module_version": "1.5.0",
      "model_name": "HTMLModel",
      "state": {
       "layout": "IPY_MODEL_5c1a6ea805644179a5f63a2ae3e0f8ac",
       "style": "IPY_MODEL_d92c373d5126472bb556954839a192bc",
       "value": "job has successfully run"
      }
     },
     "c32f876423fe44d8a33fb9e6d248698f": {
      "model_module": "@jupyter-widgets/base",
      "model_module_version": "1.2.0",
      "model_name": "LayoutModel",
      "state": {
       "margin": "0px 5px 0px 0px",
       "width": "32px"
      }
     },
     "c414c83e7288433f84455196bd42161d": {
      "model_module": "@jupyter-widgets/controls",
      "model_module_version": "1.5.0",
      "model_name": "HTMLModel",
      "state": {
       "layout": "IPY_MODEL_843ea7aedba94ff88cd80a387148a8e5",
       "style": "IPY_MODEL_8561bd500259435490e8d02c36aea675",
       "value": "-"
      }
     },
     "c53560009ac5498c81f67d306b33a9f2": {
      "model_module": "@jupyter-widgets/controls",
      "model_module_version": "1.5.0",
      "model_name": "DescriptionStyleModel",
      "state": {
       "description_width": ""
      }
     },
     "c579b658040b4e3aa7807fb74d4313e7": {
      "model_module": "@jupyter-widgets/base",
      "model_module_version": "1.2.0",
      "model_name": "LayoutModel",
      "state": {
       "width": "145px"
      }
     },
     "c6809311a8094ce2bbbe8a551861e214": {
      "model_module": "@jupyter-widgets/controls",
      "model_module_version": "1.5.0",
      "model_name": "HBoxModel",
      "state": {
       "children": [
        "IPY_MODEL_17c2ef3bb7a5452aab93594ce6c37985",
        "IPY_MODEL_a1b5268376c54782938db859bd977b13",
        "IPY_MODEL_50e407bef98043c5b93b79787b4752dd",
        "IPY_MODEL_9f9708d01a604e53bb45bff0f1aefec5",
        "IPY_MODEL_c414c83e7288433f84455196bd42161d",
        "IPY_MODEL_f8c3e6fdc03d4f3997e82a7e6dbd2246"
       ],
       "layout": "IPY_MODEL_e622fb0d1ee24e19ac9afc0cb28c99be"
      }
     },
     "c6f5e0ac8b1241febfc2014998da32bc": {
      "model_module": "@jupyter-widgets/base",
      "model_module_version": "1.2.0",
      "model_name": "LayoutModel",
      "state": {
       "margin": "0px 5px 0px 0px",
       "width": "32px"
      }
     },
     "caeac20d3cfd498698057a81568d314e": {
      "model_module": "@jupyter-widgets/base",
      "model_module_version": "1.2.0",
      "model_name": "LayoutModel",
      "state": {
       "width": "70px"
      }
     },
     "cca3a59d13b64e4097bea02ff101153f": {
      "model_module": "@jupyter-widgets/base",
      "model_module_version": "1.2.0",
      "model_name": "LayoutModel",
      "state": {
       "margin": "0px 5px 0px 0px",
       "width": "32px"
      }
     },
     "ce42331752cc4ac9a8eae8eecc1d7835": {
      "model_module": "@jupyter-widgets/controls",
      "model_module_version": "1.5.0",
      "model_name": "HBoxModel",
      "state": {
       "children": [
        "IPY_MODEL_0d1b1919015e4c43a7e23eead5ff356b",
        "IPY_MODEL_741d9e79f24b404fb6a4e9d9db92363a",
        "IPY_MODEL_28225429ab474a9c9ccef4dc9e8c233c",
        "IPY_MODEL_2ce03e5b66734970a5b74ad622b151dc",
        "IPY_MODEL_e6bf4730bc0f48279a3f171e6ff9f744"
       ],
       "layout": "IPY_MODEL_e3ac762d10f24ecd92087898bb404a33"
      }
     },
     "cf37de7727914ff595b7fd732d8b8a64": {
      "model_module": "@jupyter-widgets/controls",
      "model_module_version": "1.5.0",
      "model_name": "DescriptionStyleModel",
      "state": {
       "description_width": ""
      }
     },
     "cff1ab7762784a2abc303a5e9d6f7d85": {
      "model_module": "@jupyter-widgets/base",
      "model_module_version": "1.2.0",
      "model_name": "LayoutModel",
      "state": {
       "overflow_x": "scroll"
      }
     },
     "d0476b0452ab485db9b957c001e0276f": {
      "model_module": "@jupyter-widgets/controls",
      "model_module_version": "1.5.0",
      "model_name": "ButtonModel",
      "state": {
       "icon": "close",
       "layout": "IPY_MODEL_73fd21d44fc24c7088f08458fb26fdb9",
       "style": "IPY_MODEL_2d15d1e94ddf4845ac661de059e8c19d"
      }
     },
     "d1da9a41846d4683b92c986e9617b336": {
      "model_module": "@jupyter-widgets/controls",
      "model_module_version": "1.5.0",
      "model_name": "DescriptionStyleModel",
      "state": {
       "description_width": ""
      }
     },
     "d452426390b14fb3825c08a45b783843": {
      "model_module": "@jupyter-widgets/controls",
      "model_module_version": "1.5.0",
      "model_name": "HTMLModel",
      "state": {
       "layout": "IPY_MODEL_18e15c0ce4ba44eeab1ea6d3b5bccf23",
       "style": "IPY_MODEL_8b665b172de24f4a85a69f61b3e48895",
       "value": "<font style='color:#34BC6E'>DONE</font>"
      }
     },
     "d92c373d5126472bb556954839a192bc": {
      "model_module": "@jupyter-widgets/controls",
      "model_module_version": "1.5.0",
      "model_name": "DescriptionStyleModel",
      "state": {
       "description_width": ""
      }
     },
     "d92e05088adb4507b6be88cf979cd1c5": {
      "model_module": "@jupyter-widgets/controls",
      "model_module_version": "1.5.0",
      "model_name": "DescriptionStyleModel",
      "state": {
       "description_width": ""
      }
     },
     "da07d92221304284bd000a53ae956328": {
      "model_module": "@jupyter-widgets/controls",
      "model_module_version": "1.5.0",
      "model_name": "DescriptionStyleModel",
      "state": {
       "description_width": ""
      }
     },
     "db7f251134814c51842f0f3fee4a7d94": {
      "model_module": "@jupyter-widgets/base",
      "model_module_version": "1.2.0",
      "model_name": "LayoutModel",
      "state": {
       "width": "95px"
      }
     },
     "dd2eed0521df4781a3f46348ea15ce1d": {
      "model_module": "@jupyter-widgets/controls",
      "model_module_version": "1.5.0",
      "model_name": "DescriptionStyleModel",
      "state": {
       "description_width": ""
      }
     },
     "e18f99d7049044ddac9033e769cfc27f": {
      "model_module": "@jupyter-widgets/controls",
      "model_module_version": "1.5.0",
      "model_name": "DescriptionStyleModel",
      "state": {
       "description_width": ""
      }
     },
     "e3ac762d10f24ecd92087898bb404a33": {
      "model_module": "@jupyter-widgets/base",
      "model_module_version": "1.2.0",
      "model_name": "LayoutModel",
      "state": {
       "margin": "0px 0px 0px 37px",
       "width": "600px"
      }
     },
     "e4e303106c584739a4355faeacfb21cc": {
      "model_module": "@jupyter-widgets/controls",
      "model_module_version": "1.5.0",
      "model_name": "HBoxModel",
      "state": {
       "children": [
        "IPY_MODEL_f79f4bcee1cb4b2f865591a4079fc45b",
        "IPY_MODEL_986139ec6561454b92fdeb12f2c6cbc3",
        "IPY_MODEL_1e3d18a742ec48469535c417601a50e1",
        "IPY_MODEL_29adf103db0d4065b5de9270fe6f36d7",
        "IPY_MODEL_b0ed280a47524a77ac9e468eb520aa17",
        "IPY_MODEL_72949bd72a614f94a2e499a844c83a8c"
       ],
       "layout": "IPY_MODEL_9bf30659727e454faebd8ae4b9a5859b"
      }
     },
     "e622fb0d1ee24e19ac9afc0cb28c99be": {
      "model_module": "@jupyter-widgets/base",
      "model_module_version": "1.2.0",
      "model_name": "LayoutModel",
      "state": {
       "max_width": "700px",
       "min_width": "700px"
      }
     },
     "e6709bd569394a5d8125bea2e59a5f41": {
      "model_module": "@jupyter-widgets/controls",
      "model_module_version": "1.5.0",
      "model_name": "HTMLModel",
      "state": {
       "layout": "IPY_MODEL_901e0474c7d64562badf0d39547d3bf3",
       "style": "IPY_MODEL_03b011656c4a4949beb401ec37066f1d",
       "value": "ibmq_santiago"
      }
     },
     "e6bf4730bc0f48279a3f171e6ff9f744": {
      "model_module": "@jupyter-widgets/controls",
      "model_module_version": "1.5.0",
      "model_name": "HTMLModel",
      "state": {
       "layout": "IPY_MODEL_358adc419264494b987e392d944d2554",
       "style": "IPY_MODEL_03bff630bcde41ad91197c8bd1360465",
       "value": "<h5>Message</h5>"
      }
     },
     "eaa1f996c14640a79f5a7b55a2a17140": {
      "model_module": "@jupyter-widgets/base",
      "model_module_version": "1.2.0",
      "model_name": "LayoutModel",
      "state": {
       "width": "70px"
      }
     },
     "eab3d5122dc34a94a09b0dcb1a610f17": {
      "model_module": "@jupyter-widgets/controls",
      "model_module_version": "1.5.0",
      "model_name": "HTMLModel",
      "state": {
       "layout": "IPY_MODEL_cff1ab7762784a2abc303a5e9d6f7d85",
       "style": "IPY_MODEL_563130a94e5b4d4aa27f57260a34bdb4",
       "value": "job has successfully run"
      }
     },
     "eed392ca7e824063a12e9a3ca9a8553e": {
      "model_module": "@jupyter-widgets/base",
      "model_module_version": "1.2.0",
      "model_name": "LayoutModel",
      "state": {
       "margin": "0px 5px 0px 0px",
       "width": "32px"
      }
     },
     "f04cdfa9da704f77b3b18aa35935a13f": {
      "model_module": "@jupyter-widgets/base",
      "model_module_version": "1.2.0",
      "model_name": "LayoutModel",
      "state": {
       "overflow_x": "scroll"
      }
     },
     "f5f9eaf7877c4999ae92a11d463e250d": {
      "model_module": "@jupyter-widgets/controls",
      "model_module_version": "1.5.0",
      "model_name": "DescriptionStyleModel",
      "state": {
       "description_width": ""
      }
     },
     "f79f4bcee1cb4b2f865591a4079fc45b": {
      "model_module": "@jupyter-widgets/controls",
      "model_module_version": "1.5.0",
      "model_name": "ButtonModel",
      "state": {
       "icon": "close",
       "layout": "IPY_MODEL_a4e087d8119a428aab305d460cbc6170",
       "style": "IPY_MODEL_9426432445fc40b48a9af8cee1bbbbb5"
      }
     },
     "f84572ca5fa941ccbdbd07eca00dfb12": {
      "model_module": "@jupyter-widgets/controls",
      "model_module_version": "1.5.0",
      "model_name": "HTMLModel",
      "state": {
       "layout": "IPY_MODEL_9c7abcca36e24c9e8283ffe0b497b6e9",
       "style": "IPY_MODEL_fa00cc1278c44099b8d1f8ac23c42f9d",
       "value": "ibmq_santiago"
      }
     },
     "f8c3e6fdc03d4f3997e82a7e6dbd2246": {
      "model_module": "@jupyter-widgets/controls",
      "model_module_version": "1.5.0",
      "model_name": "HTMLModel",
      "state": {
       "layout": "IPY_MODEL_67252ca275c646ed85f8ca1474073dca",
       "style": "IPY_MODEL_b6f1354906cd49a99284936ec850efc9",
       "value": "job has successfully run"
      }
     },
     "f99271957ca24813add02eecd66fbe1d": {
      "model_module": "@jupyter-widgets/controls",
      "model_module_version": "1.5.0",
      "model_name": "ButtonStyleModel",
      "state": {
       "button_color": "white"
      }
     },
     "fa00cc1278c44099b8d1f8ac23c42f9d": {
      "model_module": "@jupyter-widgets/controls",
      "model_module_version": "1.5.0",
      "model_name": "DescriptionStyleModel",
      "state": {
       "description_width": ""
      }
     },
     "fb5904c00aee49ada3a58edc0673474f": {
      "model_module": "@jupyter-widgets/controls",
      "model_module_version": "1.5.0",
      "model_name": "ButtonStyleModel",
      "state": {
       "button_color": "white"
      }
     },
     "fb6f761ced9d4005b4b8b52dccdb30ee": {
      "model_module": "@jupyter-widgets/controls",
      "model_module_version": "1.5.0",
      "model_name": "DescriptionStyleModel",
      "state": {
       "description_width": ""
      }
     },
     "fc0e533c65e44ebfa6377b55326f2878": {
      "model_module": "@jupyter-widgets/controls",
      "model_module_version": "1.5.0",
      "model_name": "DescriptionStyleModel",
      "state": {
       "description_width": ""
      }
     },
     "fcd0b8e4c72e4b61acb994c75f6b8f24": {
      "model_module": "@jupyter-widgets/controls",
      "model_module_version": "1.5.0",
      "model_name": "HTMLModel",
      "state": {
       "layout": "IPY_MODEL_9e0a2a0fd2984750b259e3ce90160b3b",
       "style": "IPY_MODEL_4bd9d67b3b4b4dc6b91c15763546fb74",
       "value": "job has successfully run"
      }
     },
     "fd3114b698d841d68e0a4adcfd5d4a8f": {
      "model_module": "@jupyter-widgets/controls",
      "model_module_version": "1.5.0",
      "model_name": "DescriptionStyleModel",
      "state": {
       "description_width": ""
      }
     },
     "ff8660f62f5c4dbea02294124f88ca26": {
      "model_module": "@jupyter-widgets/base",
      "model_module_version": "1.2.0",
      "model_name": "LayoutModel",
      "state": {
       "grid_template_areas": "\n                                       \". . . . right \"\n                                        ",
       "grid_template_columns": "20% 20% 20% 20% 20%",
       "width": "100%"
      }
     }
    },
    "version_major": 2,
    "version_minor": 0
   }
  }
 },
 "nbformat": 4,
 "nbformat_minor": 5
}
